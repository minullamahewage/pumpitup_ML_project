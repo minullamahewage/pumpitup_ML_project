{
 "cells": [
  {
   "cell_type": "code",
   "execution_count": 611,
   "id": "9086c2ce",
   "metadata": {},
   "outputs": [],
   "source": [
    "import numpy as np\n",
    "import pandas as pd\n",
    "import matplotlib.pyplot as plt\n",
    "from sklearn.feature_selection import mutual_info_classif\n",
    "from sklearn.model_selection import train_test_split, KFold, cross_val_score, GridSearchCV,RandomizedSearchCV\n",
    "from sklearn.ensemble import RandomForestClassifier\n",
    "from sklearn.metrics import roc_auc_score,confusion_matrix,accuracy_score,SCORERS\n",
    "from sklearn.preprocessing import LabelEncoder, OneHotEncoder, OrdinalEncoder\n",
    "from xgboost import XGBClassifier"
   ]
  },
  {
   "cell_type": "code",
   "execution_count": 612,
   "id": "56687bdb",
   "metadata": {},
   "outputs": [],
   "source": [
    "train_x = pd.read_csv(\"training_set_values.csv\")\n",
    "train_y = pd.read_csv(\"training_set_labels.csv\")\n",
    "test_x=pd.read_csv(\"test_set_values.csv\")"
   ]
  },
  {
   "cell_type": "markdown",
   "id": "6fbd566e",
   "metadata": {},
   "source": [
    "# Dropping Features\n",
    "- Dropping features with too many missing values - scheme_name\n",
    "- Dropping unusable/unnecessary features - num_private, recorded_by\n",
    "-  Dropping features with very high correlation and leaving only one of each"
   ]
  },
  {
   "cell_type": "code",
   "execution_count": 613,
   "id": "b4d76e0d",
   "metadata": {},
   "outputs": [],
   "source": [
    "# Dropping features with too many missing values, unusable features and features with very high correlation\n",
    "drop_features = [\"scheme_name\", \"num_private\", \"recorded_by\"]\n",
    "repeated = [\"payment\", \"quality_group\", \"quantity_group\", \"source\", \"source_class\",\n",
    "            \"region\", \"extraction_type\", \"extraction_type_group\", \"waterpoint_type_group\"]\n",
    "\n",
    "X = train_x.copy()\n",
    "X=X.drop(drop_features, axis=1)\n",
    "X=X.drop(repeated, axis=1)\n",
    "\n",
    "test_x = test_x.drop(drop_features, axis=1)\n",
    "test_x = test_x.drop(repeated, axis=1)"
   ]
  },
  {
   "cell_type": "code",
   "execution_count": 614,
   "id": "afc736d5",
   "metadata": {},
   "outputs": [],
   "source": [
    "# X.isnull().sum()"
   ]
  },
  {
   "cell_type": "code",
   "execution_count": 615,
   "id": "d3f405db",
   "metadata": {},
   "outputs": [],
   "source": [
    "# pd.set_option('display.max_rows', 3000)\n",
    "# train_x['basin'].value_counts()"
   ]
  },
  {
   "cell_type": "code",
   "execution_count": 616,
   "id": "e646892f",
   "metadata": {},
   "outputs": [],
   "source": [
    "pd.reset_option('display.max_rows')"
   ]
  },
  {
   "cell_type": "markdown",
   "id": "35ccb2a0",
   "metadata": {},
   "source": [
    "# Filling in null values"
   ]
  },
  {
   "cell_type": "code",
   "execution_count": 617,
   "id": "c0a8daef",
   "metadata": {},
   "outputs": [],
   "source": [
    "missing_null=[\"funder\", \"installer\", \"subvillage\", \"public_meeting\", \"scheme_management\",  \"permit\",]\n",
    "\n",
    "for col in missing_null:\n",
    "    X[col].fillna(X[col].mode()[0], inplace=True)\n",
    "    test_x[col].fillna(X[col].mode()[0], inplace=True)"
   ]
  },
  {
   "cell_type": "markdown",
   "id": "be7a411c",
   "metadata": {},
   "source": [
    "# Filling in other types of missing values such as 0, None, unkown"
   ]
  },
  {
   "cell_type": "code",
   "execution_count": 618,
   "id": "28998038",
   "metadata": {},
   "outputs": [],
   "source": [
    "# boolean=[\"public_meeting\", \"permit\"]\n",
    "missing_None_mode=[\"scheme_management\"]\n",
    "for col in missing_None_mode:\n",
    "    mode = X[col].mode()[0]\n",
    "    X[col].replace(\"None\", mode, inplace=True)\n",
    "    test_x[col].replace(\"None\", mode, inplace=True)\n",
    "    \n",
    "missing_unknown_values_mode = [\"payment_type\", \"water_quality\", \"quantity\", \"management\", \"management_group\"]\n",
    "for col in missing_unknown_values_mode:\n",
    "    mode = X[col].mode()[0]\n",
    "    X[col].replace(\"unknown\", mode, inplace=True)\n",
    "    \n",
    "missing_zero_mean_int = [\"gps_height\", \"population\", \"construction_year\"]\n",
    "for col in missing_zero_mean_int:\n",
    "    X[col].replace(0, np.NaN, inplace=True)\n",
    "    mean = int(X[col].mean(skipna=True))\n",
    "    X[col].fillna(mean, inplace=True)\n",
    "    test_x[col].replace(0, mean, inplace=True)\n",
    "    \n",
    "missing_none_drop_temp = [\"wpt_name\"]\n",
    "# for col in missing_unknown_values_mode:\n",
    "#     X[col].replace(\"none\", X[col].mode()[0], inplace=True)\n",
    "\n",
    "X = X.drop(missing_none_drop_temp, axis=1)\n",
    "test_x = test_x.drop(missing_none_drop_temp, axis=1)"
   ]
  },
  {
   "cell_type": "code",
   "execution_count": 619,
   "id": "cb26846a",
   "metadata": {},
   "outputs": [],
   "source": [
    "# pd.set_option('display.max_rows', 3000)\n",
    "# test_x['funder'].value_counts()"
   ]
  },
  {
   "cell_type": "code",
   "execution_count": 620,
   "id": "ac8d07da-d00c-4c34-b385-6d2dab9a4c56",
   "metadata": {},
   "outputs": [],
   "source": [
    "# X.isnull().sum()"
   ]
  },
  {
   "cell_type": "code",
   "execution_count": 621,
   "id": "db7c23b5",
   "metadata": {},
   "outputs": [],
   "source": [
    "# Onehot and Ordinal Encoders chosen based on whether features are ordinal or not and the number of categories.\n",
    "# Ordinal used for non ordinal features when number of categories are very high.\n",
    "one_hot=[\"basin\", \"scheme_management\", \"extraction_type_class\",\n",
    "         \"management_group\", \"quantity\", \"source_type\", \"waterpoint_type\"]\n",
    "ordinal=[\"funder\",\"installer\", \"subvillage\", \"lga\", \"ward\", \"public_meeting\",\n",
    "         \"permit\", \"management\", \"payment_type\", \"water_quality\", \"date_recorded\"]"
   ]
  },
  {
   "cell_type": "code",
   "execution_count": 622,
   "id": "a4fc0134",
   "metadata": {},
   "outputs": [],
   "source": [
    "# Get list of categorical variables\n",
    "# s = (X.dtypes == 'object')\n",
    "# object_cols = list(s[s].index)\n",
    "# object_cols"
   ]
  },
  {
   "cell_type": "code",
   "execution_count": 623,
   "id": "36367a25",
   "metadata": {},
   "outputs": [],
   "source": [
    "X[\"test\"] = 0\n",
    "test_x[\"test\"] = 1\n",
    "frames = [X, test_x]\n",
    "combined_dataset = pd.concat(frames)"
   ]
  },
  {
   "cell_type": "markdown",
   "id": "012e2bd9",
   "metadata": {},
   "source": [
    "# Ordinal Encoding categorical features"
   ]
  },
  {
   "cell_type": "code",
   "execution_count": 624,
   "id": "e1c80544-39c5-4471-addd-85c49aec4dd8",
   "metadata": {},
   "outputs": [],
   "source": [
    "ordEnc=OrdinalEncoder()\n",
    "combined_dataset[ordinal] = ordEnc.fit_transform(combined_dataset[ordinal])"
   ]
  },
  {
   "cell_type": "code",
   "execution_count": 625,
   "id": "234b7570",
   "metadata": {},
   "outputs": [],
   "source": [
    "test_x = combined_dataset.loc[combined_dataset['test'] == 1]\n",
    "test_x = test_x.drop('test', axis=1)\n",
    "X = combined_dataset.loc[combined_dataset['test'] == 0]\n",
    "X = X.drop('test', axis=1)"
   ]
  },
  {
   "cell_type": "markdown",
   "id": "c0d82a20",
   "metadata": {},
   "source": [
    "# OneHot Encoding categorical features"
   ]
  },
  {
   "cell_type": "code",
   "execution_count": 626,
   "id": "b7d3c41c-a132-4237-9982-5ade939afaf4",
   "metadata": {},
   "outputs": [],
   "source": [
    "ohe = OneHotEncoder(handle_unknown='ignore')\n",
    "for col in one_hot:\n",
    "    ohot_encoded = ohe.fit_transform(X[col].values.reshape(len(X[col].values),1)).toarray()\n",
    "    ohot_encoded2 = ohot_encoded[:,:].astype(int)\n",
    "    df_ohot = pd.DataFrame(ohot_encoded2, columns=ohe.get_feature_names())\n",
    "    X = pd.concat([X,df_ohot], axis=1)\n",
    "    X.drop(col, axis=1, inplace=True)\n",
    "    ohot_encoded_test = ohe.transform(test_x[col].values.reshape(len(test_x[col].values),1)).toarray()\n",
    "    ohot_encoded2_test = ohot_encoded_test[:,:].astype(int)\n",
    "    df_ohot_test = pd.DataFrame(ohot_encoded2_test, columns=ohe.get_feature_names())\n",
    "    test_x = pd.concat([test_x,df_ohot_test], axis=1)\n",
    "    test_x.drop(col, axis=1, inplace=True)"
   ]
  },
  {
   "cell_type": "code",
   "execution_count": 627,
   "id": "e41e218f",
   "metadata": {},
   "outputs": [],
   "source": [
    "# train_y.head()"
   ]
  },
  {
   "cell_type": "markdown",
   "id": "e6f005d8",
   "metadata": {},
   "source": [
    "# Label Encoding categorical labels"
   ]
  },
  {
   "cell_type": "code",
   "execution_count": 628,
   "id": "02e08225",
   "metadata": {},
   "outputs": [],
   "source": [
    "le = LabelEncoder()\n",
    "train_y[[\"status_group\"]]=train_y[[\"status_group\"]].apply(lambda col : le.fit_transform(col))"
   ]
  },
  {
   "cell_type": "markdown",
   "id": "c3827046",
   "metadata": {},
   "source": [
    "# Training Model"
   ]
  },
  {
   "cell_type": "code",
   "execution_count": 629,
   "id": "d9876c8c",
   "metadata": {},
   "outputs": [],
   "source": [
    "x = X.iloc[:,:69].values\n",
    "y = train_y.iloc[:,1].values"
   ]
  },
  {
   "cell_type": "markdown",
   "id": "cdb7c218",
   "metadata": {},
   "source": [
    "## Training and testing using train data"
   ]
  },
  {
   "cell_type": "code",
   "execution_count": 630,
   "id": "add84a3e",
   "metadata": {},
   "outputs": [],
   "source": [
    "# x_train, x_test, y_train, y_test = train_test_split(x, y, test_size = 0.2, random_state = 0)\n",
    "# model=RandomForestClassifier(n_estimators=600,max_depth=40)\n",
    "# model.fit(x_train,y_train)\n",
    "# predictions=model.predict(x_test)\n",
    "# confusion_matrix(y_test,predictions)"
   ]
  },
  {
   "cell_type": "markdown",
   "id": "7f0f60b1",
   "metadata": {},
   "source": [
    "## Training full dataset with train data and predicting for test data"
   ]
  },
  {
   "cell_type": "code",
   "execution_count": 631,
   "id": "f30bf3ce",
   "metadata": {},
   "outputs": [],
   "source": [
    "# Test Data Set\n",
    "model=RandomForestClassifier(n_estimators=600,max_depth=40)\n",
    "model.fit(x,y)\n",
    "predictions=model.predict(test_x)"
   ]
  },
  {
   "cell_type": "code",
   "execution_count": 632,
   "id": "60601190",
   "metadata": {},
   "outputs": [],
   "source": [
    "# accuracy_score(y_test,predictions)"
   ]
  },
  {
   "cell_type": "code",
   "execution_count": 633,
   "id": "da05d91a",
   "metadata": {},
   "outputs": [],
   "source": [
    "out_preds=le.inverse_transform(predictions)\n",
    "indexes=pd.read_csv(\"test_set_values.csv\").iloc[:,0].values\n",
    "out_data=pd.DataFrame({\"id\":indexes,\"status_group\":out_preds})\n",
    "out_data.to_csv(\"output.csv\",encoding='utf-8',index=False)"
   ]
  },
  {
   "cell_type": "markdown",
   "id": "a9149614",
   "metadata": {},
   "source": [
    "## Hyperparameter optimization"
   ]
  },
  {
   "cell_type": "code",
   "execution_count": 634,
   "id": "8c21ff73",
   "metadata": {},
   "outputs": [],
   "source": [
    "# params={\"n_estimators\":[100,400,600,800],\n",
    "#         \"max_depth\":[10,20,40,80]}\n",
    "# model=RandomForestClassifier()\n",
    "# cv=KFold(n_splits=10,shuffle=True)\n",
    "# gsearch = GridSearchCV(model, params,cv=cv, verbose=2, n_jobs=-1)\n",
    "# results = gsearch.fit(x_train, y_train)\n",
    "# results.best_params_"
   ]
  }
 ],
 "metadata": {
  "kernelspec": {
   "display_name": "Python 3",
   "language": "python",
   "name": "python3"
  },
  "language_info": {
   "codemirror_mode": {
    "name": "ipython",
    "version": 3
   },
   "file_extension": ".py",
   "mimetype": "text/x-python",
   "name": "python",
   "nbconvert_exporter": "python",
   "pygments_lexer": "ipython3",
   "version": "3.8.8"
  }
 },
 "nbformat": 4,
 "nbformat_minor": 5
}
